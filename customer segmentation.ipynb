{
 "cells": [
  {
   "cell_type": "code",
   "execution_count": 7,
   "id": "92703ee6",
   "metadata": {},
   "outputs": [],
   "source": [
    "#import packages\n",
    "\n",
    "import pandas as pd\n",
    "import numpy as np\n",
    "import matplotlib.pyplot as plt\n",
    "import seaborn as sns\n",
    "from sklearn.cluster import KMeans\n",
    "from sklearn.preprocessing import StandardScaler\n",
    "import warnings\n",
    "warnings.filterwarnings('ignore')"
   ]
  },
  {
   "cell_type": "code",
   "execution_count": 9,
   "id": "bef3f48f",
   "metadata": {},
   "outputs": [
    {
     "data": {
      "text/html": [
       "<div>\n",
       "<style scoped>\n",
       "    .dataframe tbody tr th:only-of-type {\n",
       "        vertical-align: middle;\n",
       "    }\n",
       "\n",
       "    .dataframe tbody tr th {\n",
       "        vertical-align: top;\n",
       "    }\n",
       "\n",
       "    .dataframe thead th {\n",
       "        text-align: right;\n",
       "    }\n",
       "</style>\n",
       "<table border=\"1\" class=\"dataframe\">\n",
       "  <thead>\n",
       "    <tr style=\"text-align: right;\">\n",
       "      <th></th>\n",
       "      <th>CustomerID</th>\n",
       "      <th>Gender</th>\n",
       "      <th>Age</th>\n",
       "      <th>Annual Income (k$)</th>\n",
       "      <th>Spending Score (1-100)</th>\n",
       "    </tr>\n",
       "  </thead>\n",
       "  <tbody>\n",
       "    <tr>\n",
       "      <th>0</th>\n",
       "      <td>1</td>\n",
       "      <td>Male</td>\n",
       "      <td>19</td>\n",
       "      <td>15</td>\n",
       "      <td>39</td>\n",
       "    </tr>\n",
       "    <tr>\n",
       "      <th>1</th>\n",
       "      <td>2</td>\n",
       "      <td>Male</td>\n",
       "      <td>21</td>\n",
       "      <td>15</td>\n",
       "      <td>81</td>\n",
       "    </tr>\n",
       "    <tr>\n",
       "      <th>2</th>\n",
       "      <td>3</td>\n",
       "      <td>Female</td>\n",
       "      <td>20</td>\n",
       "      <td>16</td>\n",
       "      <td>6</td>\n",
       "    </tr>\n",
       "    <tr>\n",
       "      <th>3</th>\n",
       "      <td>4</td>\n",
       "      <td>Female</td>\n",
       "      <td>23</td>\n",
       "      <td>16</td>\n",
       "      <td>77</td>\n",
       "    </tr>\n",
       "    <tr>\n",
       "      <th>4</th>\n",
       "      <td>5</td>\n",
       "      <td>Female</td>\n",
       "      <td>31</td>\n",
       "      <td>17</td>\n",
       "      <td>40</td>\n",
       "    </tr>\n",
       "  </tbody>\n",
       "</table>\n",
       "</div>"
      ],
      "text/plain": [
       "   CustomerID  Gender  Age  Annual Income (k$)  Spending Score (1-100)\n",
       "0           1    Male   19                  15                      39\n",
       "1           2    Male   21                  15                      81\n",
       "2           3  Female   20                  16                       6\n",
       "3           4  Female   23                  16                      77\n",
       "4           5  Female   31                  17                      40"
      ]
     },
     "execution_count": 9,
     "metadata": {},
     "output_type": "execute_result"
    }
   ],
   "source": [
    "#import dataset \n",
    "data = pd.read_csv('Mall_Customers.csv')\n",
    "data.head()"
   ]
  },
  {
   "cell_type": "code",
   "execution_count": 19,
   "id": "31b26ec7",
   "metadata": {},
   "outputs": [
    {
     "data": {
      "text/plain": [
       "(200, 6)"
      ]
     },
     "execution_count": 19,
     "metadata": {},
     "output_type": "execute_result"
    }
   ],
   "source": [
    "#check rows and columns\n",
    "data.shape"
   ]
  },
  {
   "cell_type": "code",
   "execution_count": 20,
   "id": "d1e3af8f",
   "metadata": {},
   "outputs": [
    {
     "name": "stdout",
     "output_type": "stream",
     "text": [
      "<class 'pandas.core.frame.DataFrame'>\n",
      "RangeIndex: 200 entries, 0 to 199\n",
      "Data columns (total 6 columns):\n",
      " #   Column                  Non-Null Count  Dtype \n",
      "---  ------                  --------------  ----- \n",
      " 0   CustomerID              200 non-null    int64 \n",
      " 1   Gender                  200 non-null    object\n",
      " 2   Age                     200 non-null    int64 \n",
      " 3   Annual Income (k$)      200 non-null    int64 \n",
      " 4   Spending Score (1-100)  200 non-null    int64 \n",
      " 5   Cluster                 200 non-null    int32 \n",
      "dtypes: int32(1), int64(4), object(1)\n",
      "memory usage: 8.7+ KB\n"
     ]
    }
   ],
   "source": [
    "data.info()"
   ]
  },
  {
   "cell_type": "code",
   "execution_count": 21,
   "id": "ff94577b",
   "metadata": {},
   "outputs": [
    {
     "data": {
      "text/plain": [
       "CustomerID                0\n",
       "Gender                    0\n",
       "Age                       0\n",
       "Annual Income (k$)        0\n",
       "Spending Score (1-100)    0\n",
       "Cluster                   0\n",
       "dtype: int64"
      ]
     },
     "execution_count": 21,
     "metadata": {},
     "output_type": "execute_result"
    }
   ],
   "source": [
    "#check or null values\n",
    "data.isnull().sum()"
   ]
  },
  {
   "cell_type": "code",
   "execution_count": 22,
   "id": "91908950",
   "metadata": {},
   "outputs": [
    {
     "data": {
      "text/plain": [
       "0"
      ]
     },
     "execution_count": 22,
     "metadata": {},
     "output_type": "execute_result"
    }
   ],
   "source": [
    "data.duplicated().sum()"
   ]
  },
  {
   "cell_type": "code",
   "execution_count": 23,
   "id": "af5ca1ca",
   "metadata": {},
   "outputs": [],
   "source": [
    "# Select features for clustering\n",
    "x = data[['Annual Income (k$)', 'Spending Score (1-100)']]\n"
   ]
  },
  {
   "cell_type": "code",
   "execution_count": 24,
   "id": "9a7c646b",
   "metadata": {},
   "outputs": [
    {
     "name": "stdout",
     "output_type": "stream",
     "text": [
      "     Annual Income (k$)  Spending Score (1-100)\n",
      "0                    15                      39\n",
      "1                    15                      81\n",
      "2                    16                       6\n",
      "3                    16                      77\n",
      "4                    17                      40\n",
      "..                  ...                     ...\n",
      "195                 120                      79\n",
      "196                 126                      28\n",
      "197                 126                      74\n",
      "198                 137                      18\n",
      "199                 137                      83\n",
      "\n",
      "[200 rows x 2 columns]\n"
     ]
    }
   ],
   "source": [
    "print(x)"
   ]
  },
  {
   "cell_type": "code",
   "execution_count": 25,
   "id": "ebff3490",
   "metadata": {},
   "outputs": [],
   "source": [
    "#standadize x values to be between 0 and 1\n",
    "scaler = StandardScaler()\n",
    "x_scaled = scaler.fit_transform(x)"
   ]
  },
  {
   "cell_type": "code",
   "execution_count": 26,
   "id": "a3455851",
   "metadata": {},
   "outputs": [
    {
     "name": "stdout",
     "output_type": "stream",
     "text": [
      "[[-1.73899919 -0.43480148]\n",
      " [-1.73899919  1.19570407]\n",
      " [-1.70082976 -1.71591298]\n",
      " [-1.70082976  1.04041783]\n",
      " [-1.66266033 -0.39597992]\n",
      " [-1.66266033  1.00159627]\n",
      " [-1.62449091 -1.71591298]\n",
      " [-1.62449091  1.70038436]\n",
      " [-1.58632148 -1.83237767]\n",
      " [-1.58632148  0.84631002]\n",
      " [-1.58632148 -1.4053405 ]\n",
      " [-1.58632148  1.89449216]\n",
      " [-1.54815205 -1.36651894]\n",
      " [-1.54815205  1.04041783]\n",
      " [-1.54815205 -1.44416206]\n",
      " [-1.54815205  1.11806095]\n",
      " [-1.50998262 -0.59008772]\n",
      " [-1.50998262  0.61338066]\n",
      " [-1.43364376 -0.82301709]\n",
      " [-1.43364376  1.8556706 ]\n",
      " [-1.39547433 -0.59008772]\n",
      " [-1.39547433  0.88513158]\n",
      " [-1.3573049  -1.75473454]\n",
      " [-1.3573049   0.88513158]\n",
      " [-1.24279661 -1.4053405 ]\n",
      " [-1.24279661  1.23452563]\n",
      " [-1.24279661 -0.7065524 ]\n",
      " [-1.24279661  0.41927286]\n",
      " [-1.20462718 -0.74537397]\n",
      " [-1.20462718  1.42863343]\n",
      " [-1.16645776 -1.7935561 ]\n",
      " [-1.16645776  0.88513158]\n",
      " [-1.05194947 -1.7935561 ]\n",
      " [-1.05194947  1.62274124]\n",
      " [-1.05194947 -1.4053405 ]\n",
      " [-1.05194947  1.19570407]\n",
      " [-1.01378004 -1.28887582]\n",
      " [-1.01378004  0.88513158]\n",
      " [-0.89927175 -0.93948177]\n",
      " [-0.89927175  0.96277471]\n",
      " [-0.86110232 -0.59008772]\n",
      " [-0.86110232  1.62274124]\n",
      " [-0.82293289 -0.55126616]\n",
      " [-0.82293289  0.41927286]\n",
      " [-0.82293289 -0.86183865]\n",
      " [-0.82293289  0.5745591 ]\n",
      " [-0.78476346  0.18634349]\n",
      " [-0.78476346 -0.12422899]\n",
      " [-0.78476346 -0.3183368 ]\n",
      " [-0.78476346 -0.3183368 ]\n",
      " [-0.70842461  0.06987881]\n",
      " [-0.70842461  0.38045129]\n",
      " [-0.67025518  0.14752193]\n",
      " [-0.67025518  0.38045129]\n",
      " [-0.67025518 -0.20187212]\n",
      " [-0.67025518 -0.35715836]\n",
      " [-0.63208575 -0.00776431]\n",
      " [-0.63208575 -0.16305055]\n",
      " [-0.55574689  0.03105725]\n",
      " [-0.55574689 -0.16305055]\n",
      " [-0.55574689  0.22516505]\n",
      " [-0.55574689  0.18634349]\n",
      " [-0.51757746  0.06987881]\n",
      " [-0.51757746  0.34162973]\n",
      " [-0.47940803  0.03105725]\n",
      " [-0.47940803  0.34162973]\n",
      " [-0.47940803 -0.00776431]\n",
      " [-0.47940803 -0.08540743]\n",
      " [-0.47940803  0.34162973]\n",
      " [-0.47940803 -0.12422899]\n",
      " [-0.4412386   0.18634349]\n",
      " [-0.4412386  -0.3183368 ]\n",
      " [-0.40306917 -0.04658587]\n",
      " [-0.40306917  0.22516505]\n",
      " [-0.25039146 -0.12422899]\n",
      " [-0.25039146  0.14752193]\n",
      " [-0.25039146  0.10870037]\n",
      " [-0.25039146 -0.08540743]\n",
      " [-0.25039146  0.06987881]\n",
      " [-0.25039146 -0.3183368 ]\n",
      " [-0.25039146  0.03105725]\n",
      " [-0.25039146  0.18634349]\n",
      " [-0.25039146 -0.35715836]\n",
      " [-0.25039146 -0.24069368]\n",
      " [-0.25039146  0.26398661]\n",
      " [-0.25039146 -0.16305055]\n",
      " [-0.13588317  0.30280817]\n",
      " [-0.13588317  0.18634349]\n",
      " [-0.09771374  0.38045129]\n",
      " [-0.09771374 -0.16305055]\n",
      " [-0.05954431  0.18634349]\n",
      " [-0.05954431 -0.35715836]\n",
      " [-0.02137488 -0.04658587]\n",
      " [-0.02137488 -0.39597992]\n",
      " [-0.02137488 -0.3183368 ]\n",
      " [-0.02137488  0.06987881]\n",
      " [-0.02137488 -0.12422899]\n",
      " [-0.02137488 -0.00776431]\n",
      " [ 0.01679455 -0.3183368 ]\n",
      " [ 0.01679455 -0.04658587]\n",
      " [ 0.05496398 -0.35715836]\n",
      " [ 0.05496398 -0.08540743]\n",
      " [ 0.05496398  0.34162973]\n",
      " [ 0.05496398  0.18634349]\n",
      " [ 0.05496398  0.22516505]\n",
      " [ 0.05496398 -0.3183368 ]\n",
      " [ 0.09313341 -0.00776431]\n",
      " [ 0.09313341 -0.16305055]\n",
      " [ 0.09313341 -0.27951524]\n",
      " [ 0.09313341 -0.08540743]\n",
      " [ 0.09313341  0.06987881]\n",
      " [ 0.09313341  0.14752193]\n",
      " [ 0.13130284 -0.3183368 ]\n",
      " [ 0.13130284 -0.16305055]\n",
      " [ 0.16947227 -0.08540743]\n",
      " [ 0.16947227 -0.00776431]\n",
      " [ 0.16947227 -0.27951524]\n",
      " [ 0.16947227  0.34162973]\n",
      " [ 0.24581112 -0.27951524]\n",
      " [ 0.24581112  0.26398661]\n",
      " [ 0.24581112  0.22516505]\n",
      " [ 0.24581112 -0.39597992]\n",
      " [ 0.32214998  0.30280817]\n",
      " [ 0.32214998  1.58391968]\n",
      " [ 0.36031941 -0.82301709]\n",
      " [ 0.36031941  1.04041783]\n",
      " [ 0.39848884 -0.59008772]\n",
      " [ 0.39848884  1.73920592]\n",
      " [ 0.39848884 -1.52180518]\n",
      " [ 0.39848884  0.96277471]\n",
      " [ 0.39848884 -1.5994483 ]\n",
      " [ 0.39848884  0.96277471]\n",
      " [ 0.43665827 -0.62890928]\n",
      " [ 0.43665827  0.80748846]\n",
      " [ 0.4748277  -1.75473454]\n",
      " [ 0.4748277   1.46745499]\n",
      " [ 0.4748277  -1.67709142]\n",
      " [ 0.4748277   0.88513158]\n",
      " [ 0.51299713 -1.56062674]\n",
      " [ 0.51299713  0.84631002]\n",
      " [ 0.55116656 -1.75473454]\n",
      " [ 0.55116656  1.6615628 ]\n",
      " [ 0.58933599 -0.39597992]\n",
      " [ 0.58933599  1.42863343]\n",
      " [ 0.62750542 -1.48298362]\n",
      " [ 0.62750542  1.81684904]\n",
      " [ 0.62750542 -0.55126616]\n",
      " [ 0.62750542  0.92395314]\n",
      " [ 0.66567484 -1.09476801]\n",
      " [ 0.66567484  1.54509812]\n",
      " [ 0.66567484 -1.28887582]\n",
      " [ 0.66567484  1.46745499]\n",
      " [ 0.66567484 -1.17241113]\n",
      " [ 0.66567484  1.00159627]\n",
      " [ 0.66567484 -1.32769738]\n",
      " [ 0.66567484  1.50627656]\n",
      " [ 0.66567484 -1.91002079]\n",
      " [ 0.66567484  1.07923939]\n",
      " [ 0.66567484 -1.91002079]\n",
      " [ 0.66567484  0.88513158]\n",
      " [ 0.70384427 -0.59008772]\n",
      " [ 0.70384427  1.27334719]\n",
      " [ 0.78018313 -1.75473454]\n",
      " [ 0.78018313  1.6615628 ]\n",
      " [ 0.93286085 -0.93948177]\n",
      " [ 0.93286085  0.96277471]\n",
      " [ 0.97103028 -1.17241113]\n",
      " [ 0.97103028  1.73920592]\n",
      " [ 1.00919971 -0.90066021]\n",
      " [ 1.00919971  0.49691598]\n",
      " [ 1.00919971 -1.44416206]\n",
      " [ 1.00919971  0.96277471]\n",
      " [ 1.00919971 -1.56062674]\n",
      " [ 1.00919971  1.62274124]\n",
      " [ 1.04736914 -1.44416206]\n",
      " [ 1.04736914  1.38981187]\n",
      " [ 1.04736914 -1.36651894]\n",
      " [ 1.04736914  0.72984534]\n",
      " [ 1.23821628 -1.4053405 ]\n",
      " [ 1.23821628  1.54509812]\n",
      " [ 1.390894   -0.7065524 ]\n",
      " [ 1.390894    1.38981187]\n",
      " [ 1.42906343 -1.36651894]\n",
      " [ 1.42906343  1.46745499]\n",
      " [ 1.46723286 -0.43480148]\n",
      " [ 1.46723286  1.81684904]\n",
      " [ 1.54357172 -1.01712489]\n",
      " [ 1.54357172  0.69102378]\n",
      " [ 1.61991057 -1.28887582]\n",
      " [ 1.61991057  1.35099031]\n",
      " [ 1.61991057 -1.05594645]\n",
      " [ 1.61991057  0.72984534]\n",
      " [ 2.00160487 -1.63826986]\n",
      " [ 2.00160487  1.58391968]\n",
      " [ 2.26879087 -1.32769738]\n",
      " [ 2.26879087  1.11806095]\n",
      " [ 2.49780745 -0.86183865]\n",
      " [ 2.49780745  0.92395314]\n",
      " [ 2.91767117 -1.25005425]\n",
      " [ 2.91767117  1.27334719]]\n"
     ]
    }
   ],
   "source": [
    "print(x_scaled)"
   ]
  },
  {
   "cell_type": "code",
   "execution_count": 27,
   "id": "03f24dba",
   "metadata": {},
   "outputs": [
    {
     "data": {
      "image/png": "[encoded data removed]",
      "text/plain": [
       "<Figure size 640x480 with 1 Axes>"
      ]
     },
     "metadata": {},
     "output_type": "display_data"
    }
   ],
   "source": [
    "# Use the Elbow Method to find the optimal K\n",
    "wcss = []\n",
    "for i in range(1, 11):\n",
    "    kmeans = KMeans(n_clusters=i, init='k-means++', random_state=42)\n",
    "    kmeans.fit(x_scaled)\n",
    "    wcss.append(kmeans.inertia_)  \n",
    "\n",
    "# Plot the Elbow Graph\n",
    "plt.plot(range(1, 11), wcss)\n",
    "plt.title('Elbow Method')\n",
    "plt.xlabel('Number of clusters (K)')\n",
    "plt.ylabel('WCSS')\n",
    "plt.savefig('elbow_method.png')\n",
    "plt.show()\n"
   ]
  },
  {
   "cell_type": "code",
   "execution_count": 33,
   "id": "c7240c42",
   "metadata": {},
   "outputs": [],
   "source": [
    "#train clustering model with 5 clusters and predict for y\n",
    "kmeans = KMeans(n_clusters = 5, init = \"k-means++\", random_state = 42)\n",
    "cluster = kmeans.fit_predict(x_scaled)"
   ]
  },
  {
   "cell_type": "code",
   "execution_count": 32,
   "id": "b1ca90ae",
   "metadata": {},
   "outputs": [
    {
     "name": "stdout",
     "output_type": "stream",
     "text": [
      "[4 2 4 2 4 2 4 2 4 2 4 2 4 2 4 2 4 2 4 2 4 2 4 2 4 2 4 2 4 2 4 2 4 2 4 2 4\n",
      " 2 4 2 4 2 4 0 4 2 0 0 0 0 0 0 0 0 0 0 0 0 0 0 0 0 0 0 0 0 0 0 0 0 0 0 0 0\n",
      " 0 0 0 0 0 0 0 0 0 0 0 0 0 0 0 0 0 0 0 0 0 0 0 0 0 0 0 0 0 0 0 0 0 0 0 0 0\n",
      " 0 0 0 0 0 0 0 0 0 0 0 0 1 3 1 0 1 3 1 3 1 0 1 3 1 3 1 3 1 3 1 0 1 3 1 3 1\n",
      " 3 1 3 1 3 1 3 1 3 1 3 1 3 1 3 1 3 1 3 1 3 1 3 1 3 1 3 1 3 1 3 1 3 1 3 1 3\n",
      " 1 3 1 3 1 3 1 3 1 3 1 3 1 3 1]\n"
     ]
    }
   ],
   "source": [
    "print(cluster)"
   ]
  },
  {
   "cell_type": "code",
   "execution_count": 34,
   "id": "f138e88b",
   "metadata": {},
   "outputs": [
    {
     "data": {
      "text/html": [
       "<div>\n",
       "<style scoped>\n",
       "    .dataframe tbody tr th:only-of-type {\n",
       "        vertical-align: middle;\n",
       "    }\n",
       "\n",
       "    .dataframe tbody tr th {\n",
       "        vertical-align: top;\n",
       "    }\n",
       "\n",
       "    .dataframe thead th {\n",
       "        text-align: right;\n",
       "    }\n",
       "</style>\n",
       "<table border=\"1\" class=\"dataframe\">\n",
       "  <thead>\n",
       "    <tr style=\"text-align: right;\">\n",
       "      <th></th>\n",
       "      <th>CustomerID</th>\n",
       "      <th>Gender</th>\n",
       "      <th>Age</th>\n",
       "      <th>Annual Income (k$)</th>\n",
       "      <th>Spending Score (1-100)</th>\n",
       "      <th>Cluster</th>\n",
       "    </tr>\n",
       "  </thead>\n",
       "  <tbody>\n",
       "    <tr>\n",
       "      <th>0</th>\n",
       "      <td>1</td>\n",
       "      <td>Male</td>\n",
       "      <td>19</td>\n",
       "      <td>15</td>\n",
       "      <td>39</td>\n",
       "      <td>4</td>\n",
       "    </tr>\n",
       "    <tr>\n",
       "      <th>1</th>\n",
       "      <td>2</td>\n",
       "      <td>Male</td>\n",
       "      <td>21</td>\n",
       "      <td>15</td>\n",
       "      <td>81</td>\n",
       "      <td>2</td>\n",
       "    </tr>\n",
       "    <tr>\n",
       "      <th>2</th>\n",
       "      <td>3</td>\n",
       "      <td>Female</td>\n",
       "      <td>20</td>\n",
       "      <td>16</td>\n",
       "      <td>6</td>\n",
       "      <td>4</td>\n",
       "    </tr>\n",
       "    <tr>\n",
       "      <th>3</th>\n",
       "      <td>4</td>\n",
       "      <td>Female</td>\n",
       "      <td>23</td>\n",
       "      <td>16</td>\n",
       "      <td>77</td>\n",
       "      <td>2</td>\n",
       "    </tr>\n",
       "    <tr>\n",
       "      <th>4</th>\n",
       "      <td>5</td>\n",
       "      <td>Female</td>\n",
       "      <td>31</td>\n",
       "      <td>17</td>\n",
       "      <td>40</td>\n",
       "      <td>4</td>\n",
       "    </tr>\n",
       "  </tbody>\n",
       "</table>\n",
       "</div>"
      ],
      "text/plain": [
       "   CustomerID  Gender  Age  Annual Income (k$)  Spending Score (1-100)  \\\n",
       "0           1    Male   19                  15                      39   \n",
       "1           2    Male   21                  15                      81   \n",
       "2           3  Female   20                  16                       6   \n",
       "3           4  Female   23                  16                      77   \n",
       "4           5  Female   31                  17                      40   \n",
       "\n",
       "   Cluster  \n",
       "0        4  \n",
       "1        2  \n",
       "2        4  \n",
       "3        2  \n",
       "4        4  "
      ]
     },
     "execution_count": 34,
     "metadata": {},
     "output_type": "execute_result"
    }
   ],
   "source": [
    "# Add the cluster labels to the original dataset\n",
    "data['Cluster'] = cluster\n",
    "data.head()"
   ]
  },
  {
   "cell_type": "code",
   "execution_count": 35,
   "id": "6da10220",
   "metadata": {},
   "outputs": [
    {
     "data": {
      "image/png": "[encoded data removed]",
      "text/plain": [
       "<Figure size 1000x600 with 1 Axes>"
      ]
     },
     "metadata": {},
     "output_type": "display_data"
    }
   ],
   "source": [
    "# Plotting the clusters\n",
    "plt.figure(figsize=(10, 6))\n",
    "sns.scatterplot(x='Annual Income (k$)', y='Spending Score (1-100)', hue='Cluster', data=data, palette='viridis', s=100)\n",
    "plt.title('Customer Segments')\n",
    "plt.xlabel('Income')\n",
    "plt.ylabel('Spending Score (1-100)')\n",
    "plt.savefig(\"customer_segments.png\")\n",
    "plt.show()\n"
   ]
  },
  {
   "cell_type": "code",
   "execution_count": 36,
   "id": "12fe010d",
   "metadata": {},
   "outputs": [
    {
     "data": {
      "text/html": [
       "<div>\n",
       "<style scoped>\n",
       "    .dataframe tbody tr th:only-of-type {\n",
       "        vertical-align: middle;\n",
       "    }\n",
       "\n",
       "    .dataframe tbody tr th {\n",
       "        vertical-align: top;\n",
       "    }\n",
       "\n",
       "    .dataframe thead th {\n",
       "        text-align: right;\n",
       "    }\n",
       "</style>\n",
       "<table border=\"1\" class=\"dataframe\">\n",
       "  <thead>\n",
       "    <tr style=\"text-align: right;\">\n",
       "      <th></th>\n",
       "      <th>Annual Income (k$)</th>\n",
       "      <th>Age</th>\n",
       "      <th>Spending Score (1-100)</th>\n",
       "    </tr>\n",
       "    <tr>\n",
       "      <th>Cluster</th>\n",
       "      <th></th>\n",
       "      <th></th>\n",
       "      <th></th>\n",
       "    </tr>\n",
       "  </thead>\n",
       "  <tbody>\n",
       "    <tr>\n",
       "      <th>0</th>\n",
       "      <td>55.296296</td>\n",
       "      <td>42.716049</td>\n",
       "      <td>49.518519</td>\n",
       "    </tr>\n",
       "    <tr>\n",
       "      <th>1</th>\n",
       "      <td>86.538462</td>\n",
       "      <td>32.692308</td>\n",
       "      <td>82.128205</td>\n",
       "    </tr>\n",
       "    <tr>\n",
       "      <th>2</th>\n",
       "      <td>25.727273</td>\n",
       "      <td>25.272727</td>\n",
       "      <td>79.363636</td>\n",
       "    </tr>\n",
       "    <tr>\n",
       "      <th>3</th>\n",
       "      <td>88.200000</td>\n",
       "      <td>41.114286</td>\n",
       "      <td>17.114286</td>\n",
       "    </tr>\n",
       "    <tr>\n",
       "      <th>4</th>\n",
       "      <td>26.304348</td>\n",
       "      <td>45.217391</td>\n",
       "      <td>20.913043</td>\n",
       "    </tr>\n",
       "  </tbody>\n",
       "</table>\n",
       "</div>"
      ],
      "text/plain": [
       "         Annual Income (k$)        Age  Spending Score (1-100)\n",
       "Cluster                                                       \n",
       "0                 55.296296  42.716049               49.518519\n",
       "1                 86.538462  32.692308               82.128205\n",
       "2                 25.727273  25.272727               79.363636\n",
       "3                 88.200000  41.114286               17.114286\n",
       "4                 26.304348  45.217391               20.913043"
      ]
     },
     "execution_count": 36,
     "metadata": {},
     "output_type": "execute_result"
    }
   ],
   "source": [
    "#group by clusters \n",
    "dsummary= data.groupby(\"Cluster\")[['Annual Income (k$)',\"Age\",'Spending Score (1-100)']].mean()\n",
    "    \n",
    "dsummary"
   ]
  },
  {
   "cell_type": "code",
   "execution_count": null,
   "id": "a6372ab4",
   "metadata": {},
   "outputs": [],
   "source": []
  }
 ],
 "metadata": {
  "kernelspec": {
   "display_name": "Python 3 (ipykernel)",
   "language": "python",
   "name": "python3"
  },
  "language_info": {
   "codemirror_mode": {
    "name": "ipython",
    "version": 3
   },
   "file_extension": ".py",
   "mimetype": "text/x-python",
   "name": "python",
   "nbconvert_exporter": "python",
   "pygments_lexer": "ipython3",
   "version": "3.10.13"
  }
 },
 "nbformat": 4,
 "nbformat_minor": 5
}
